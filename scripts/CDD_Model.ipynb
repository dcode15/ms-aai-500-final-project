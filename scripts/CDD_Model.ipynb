{
 "cells": [
  {
   "cell_type": "code",
   "execution_count": 238,
   "id": "b83207bb0e3adba7",
   "metadata": {
    "collapsed": true,
    "ExecuteTime": {
     "end_time": "2024-02-17T18:35:59.056663400Z",
     "start_time": "2024-02-17T18:35:59.042217700Z"
    }
   },
   "outputs": [],
   "source": [
    "import pandas as pd\n",
    "import statsmodels.api as sm\n",
    "from sklearn.model_selection import train_test_split\n",
    "from sklearn.metrics import mean_squared_error, r2_score\n",
    "from sklearn.tree import DecisionTreeRegressor\n",
    "from sklearn.ensemble import RandomForestRegressor\n",
    "from itertools import product\n",
    "from typing import Dict, List, Any\n",
    "from math import inf"
   ]
  },
  {
   "cell_type": "code",
   "execution_count": 227,
   "outputs": [
    {
     "data": {
      "text/plain": "  Region  Year  Season  ACI_Combined_Seasonal_Smoothed  \\\n0    ALA  1961       1                            0.24   \n1    CAR  1961       1                           -0.12   \n2    CEA  1961       1                           -0.31   \n3    CWP  1961       1                            0.06   \n4    MID  1961       1                            0.05   \n\n   ACI_Combined_Seasonal_Unsmoothed  CDD_Seasonal_Smoothed  \\\n0                              0.58                   0.13   \n1                              0.32                    NaN   \n2                             -0.80                  -0.18   \n3                              0.33                   0.44   \n4                             -0.25                   0.76   \n\n   CDD_Seasonal_Unsmoothed  CDD_Seasonal_Unsmoothed_Unstandardized  \\\n0                    -0.26                                   33.96   \n1                      NaN                                     NaN   \n2                    -1.01                                   14.93   \n3                     0.75                                   50.62   \n4                    -0.47                                   22.53   \n\n   Rx5Day_Seasonal_Smoothed  Rx5Day_Seasonal_Unsmoothed  ...  \\\n0                      0.01                       -0.57  ...   \n1                      0.08                        0.87  ...   \n2                     -0.17                       -0.33  ...   \n3                     -0.49                       -0.82  ...   \n4                     -0.14                       -1.01  ...   \n\n   Sea_Level_Seasonal_Unsmoothed_Unstandardized  T10_Seasonal_Smoothed  \\\n0                                       7266.74                   0.05   \n1                                           NaN                   0.10   \n2                                       6917.55                   0.09   \n3                                       7126.53                  -0.27   \n4                                           NaN                  -0.15   \n\n   T10_Seasonal_Unsmoothed  T10_Seasonal_Unsmoothed_Unstandardized  \\\n0                    -1.51                                    1.31   \n1                    -0.98                                    5.47   \n2                     1.19                                   15.88   \n3                    -1.29                                    2.70   \n4                    -0.65                                    6.86   \n\n   T90_Seasonal_Smoothed  T90_Seasonal_Unsmoothed  \\\n0                  -0.11                     0.42   \n1                  -0.30                    -0.12   \n2                  -0.10                    -0.41   \n3                   0.06                     0.79   \n4                  -0.15                     0.49   \n\n   T90_Seasonal_Unsmoothed_Unstandardized  WP90_Seasonal_Smoothed  \\\n0                                   13.04                    0.14   \n1                                   10.12                   -0.18   \n2                                    8.26                   -0.44   \n3                                   13.28                   -0.10   \n4                                   11.98                   -0.34   \n\n   WP90_Seasonal_Unsmoothed  WP90_Seasonal_Unsmoothed_Unstandardized  \n0                      0.62                                    11.51  \n1                     -0.47                                     8.62  \n2                     -1.05                                     7.18  \n3                     -0.27                                     9.00  \n4                     -0.92                                     7.69  \n\n[5 rows x 23 columns]",
      "text/html": "<div>\n<style scoped>\n    .dataframe tbody tr th:only-of-type {\n        vertical-align: middle;\n    }\n\n    .dataframe tbody tr th {\n        vertical-align: top;\n    }\n\n    .dataframe thead th {\n        text-align: right;\n    }\n</style>\n<table border=\"1\" class=\"dataframe\">\n  <thead>\n    <tr style=\"text-align: right;\">\n      <th></th>\n      <th>Region</th>\n      <th>Year</th>\n      <th>Season</th>\n      <th>ACI_Combined_Seasonal_Smoothed</th>\n      <th>ACI_Combined_Seasonal_Unsmoothed</th>\n      <th>CDD_Seasonal_Smoothed</th>\n      <th>CDD_Seasonal_Unsmoothed</th>\n      <th>CDD_Seasonal_Unsmoothed_Unstandardized</th>\n      <th>Rx5Day_Seasonal_Smoothed</th>\n      <th>Rx5Day_Seasonal_Unsmoothed</th>\n      <th>...</th>\n      <th>Sea_Level_Seasonal_Unsmoothed_Unstandardized</th>\n      <th>T10_Seasonal_Smoothed</th>\n      <th>T10_Seasonal_Unsmoothed</th>\n      <th>T10_Seasonal_Unsmoothed_Unstandardized</th>\n      <th>T90_Seasonal_Smoothed</th>\n      <th>T90_Seasonal_Unsmoothed</th>\n      <th>T90_Seasonal_Unsmoothed_Unstandardized</th>\n      <th>WP90_Seasonal_Smoothed</th>\n      <th>WP90_Seasonal_Unsmoothed</th>\n      <th>WP90_Seasonal_Unsmoothed_Unstandardized</th>\n    </tr>\n  </thead>\n  <tbody>\n    <tr>\n      <th>0</th>\n      <td>ALA</td>\n      <td>1961</td>\n      <td>1</td>\n      <td>0.24</td>\n      <td>0.58</td>\n      <td>0.13</td>\n      <td>-0.26</td>\n      <td>33.96</td>\n      <td>0.01</td>\n      <td>-0.57</td>\n      <td>...</td>\n      <td>7266.74</td>\n      <td>0.05</td>\n      <td>-1.51</td>\n      <td>1.31</td>\n      <td>-0.11</td>\n      <td>0.42</td>\n      <td>13.04</td>\n      <td>0.14</td>\n      <td>0.62</td>\n      <td>11.51</td>\n    </tr>\n    <tr>\n      <th>1</th>\n      <td>CAR</td>\n      <td>1961</td>\n      <td>1</td>\n      <td>-0.12</td>\n      <td>0.32</td>\n      <td>NaN</td>\n      <td>NaN</td>\n      <td>NaN</td>\n      <td>0.08</td>\n      <td>0.87</td>\n      <td>...</td>\n      <td>NaN</td>\n      <td>0.10</td>\n      <td>-0.98</td>\n      <td>5.47</td>\n      <td>-0.30</td>\n      <td>-0.12</td>\n      <td>10.12</td>\n      <td>-0.18</td>\n      <td>-0.47</td>\n      <td>8.62</td>\n    </tr>\n    <tr>\n      <th>2</th>\n      <td>CEA</td>\n      <td>1961</td>\n      <td>1</td>\n      <td>-0.31</td>\n      <td>-0.80</td>\n      <td>-0.18</td>\n      <td>-1.01</td>\n      <td>14.93</td>\n      <td>-0.17</td>\n      <td>-0.33</td>\n      <td>...</td>\n      <td>6917.55</td>\n      <td>0.09</td>\n      <td>1.19</td>\n      <td>15.88</td>\n      <td>-0.10</td>\n      <td>-0.41</td>\n      <td>8.26</td>\n      <td>-0.44</td>\n      <td>-1.05</td>\n      <td>7.18</td>\n    </tr>\n    <tr>\n      <th>3</th>\n      <td>CWP</td>\n      <td>1961</td>\n      <td>1</td>\n      <td>0.06</td>\n      <td>0.33</td>\n      <td>0.44</td>\n      <td>0.75</td>\n      <td>50.62</td>\n      <td>-0.49</td>\n      <td>-0.82</td>\n      <td>...</td>\n      <td>7126.53</td>\n      <td>-0.27</td>\n      <td>-1.29</td>\n      <td>2.70</td>\n      <td>0.06</td>\n      <td>0.79</td>\n      <td>13.28</td>\n      <td>-0.10</td>\n      <td>-0.27</td>\n      <td>9.00</td>\n    </tr>\n    <tr>\n      <th>4</th>\n      <td>MID</td>\n      <td>1961</td>\n      <td>1</td>\n      <td>0.05</td>\n      <td>-0.25</td>\n      <td>0.76</td>\n      <td>-0.47</td>\n      <td>22.53</td>\n      <td>-0.14</td>\n      <td>-1.01</td>\n      <td>...</td>\n      <td>NaN</td>\n      <td>-0.15</td>\n      <td>-0.65</td>\n      <td>6.86</td>\n      <td>-0.15</td>\n      <td>0.49</td>\n      <td>11.98</td>\n      <td>-0.34</td>\n      <td>-0.92</td>\n      <td>7.69</td>\n    </tr>\n  </tbody>\n</table>\n<p>5 rows × 23 columns</p>\n</div>"
     },
     "execution_count": 227,
     "metadata": {},
     "output_type": "execute_result"
    }
   ],
   "source": [
    "climate_df: pd.DataFrame = pd.read_csv(\"../data/Cleaned_Data_Seasonal.csv\")\n",
    "climate_df.head()"
   ],
   "metadata": {
    "collapsed": false,
    "ExecuteTime": {
     "end_time": "2024-02-17T18:16:09.859937700Z",
     "start_time": "2024-02-17T18:16:09.039026300Z"
    }
   },
   "id": "initial_id"
  },
  {
   "cell_type": "code",
   "execution_count": 228,
   "outputs": [
    {
     "name": "stdout",
     "output_type": "stream",
     "text": [
      "Records before dropping empty rows: 4250\n",
      "Records after dropping empty rows: 3250\n"
     ]
    }
   ],
   "source": [
    "print(f\"Records before dropping empty rows: {len(climate_df)}\")\n",
    "climate_df = climate_df.dropna()\n",
    "print(f\"Records after dropping empty rows: {len(climate_df)}\")"
   ],
   "metadata": {
    "collapsed": false,
    "ExecuteTime": {
     "end_time": "2024-02-17T18:16:09.860929200Z",
     "start_time": "2024-02-17T18:16:09.069110800Z"
    }
   },
   "id": "819e09b8521e1892"
  },
  {
   "cell_type": "code",
   "execution_count": 229,
   "outputs": [],
   "source": [
    "def build_linear_regression_model(feature_df: pd.DataFrame, target_df: pd.Series):\n",
    "    x_train, x_test, y_train, y_test = train_test_split(feature_df, target_df, test_size=0.3, random_state=1)\n",
    "    x_train_const: pd.DataFrame = sm.add_constant(x_train)\n",
    "    return sm.OLS(y_train, x_train_const.astype(float)).fit(), x_test, y_test"
   ],
   "metadata": {
    "collapsed": false,
    "ExecuteTime": {
     "end_time": "2024-02-17T18:16:09.860929200Z",
     "start_time": "2024-02-17T18:16:09.074801800Z"
    }
   },
   "id": "ceb50e84e9ca642"
  },
  {
   "cell_type": "code",
   "execution_count": 230,
   "outputs": [
    {
     "name": "stdout",
     "output_type": "stream",
     "text": [
      "                              OLS Regression Results                             \n",
      "=================================================================================\n",
      "Dep. Variable:     CDD_Seasonal_Smoothed   R-squared:                       0.023\n",
      "Model:                               OLS   Adj. R-squared:                  0.022\n",
      "Method:                    Least Squares   F-statistic:                     13.55\n",
      "Date:                   Sat, 17 Feb 2024   Prob (F-statistic):           6.47e-11\n",
      "Time:                           13:16:09   Log-Likelihood:                -2173.5\n",
      "No. Observations:                   2275   AIC:                             4357.\n",
      "Df Residuals:                       2270   BIC:                             4386.\n",
      "Df Model:                              4                                         \n",
      "Covariance Type:               nonrobust                                         \n",
      "==============================================================================\n",
      "                 coef    std err          t      P>|t|      [0.025      0.975]\n",
      "------------------------------------------------------------------------------\n",
      "const          8.5160      1.164      7.316      0.000       6.233      10.799\n",
      "Year          -0.0054      0.001     -7.349      0.000      -0.007      -0.004\n",
      "Season_1       2.1271      0.292      7.275      0.000       1.554       2.700\n",
      "Season_2       2.1361      0.292      7.318      0.000       1.564       2.709\n",
      "Season_3       2.1220      0.292      7.275      0.000       1.550       2.694\n",
      "Season_4       2.1308      0.292      7.307      0.000       1.559       2.703\n",
      "==============================================================================\n",
      "Omnibus:                       89.560   Durbin-Watson:                   2.080\n",
      "Prob(Omnibus):                  0.000   Jarque-Bera (JB):              111.655\n",
      "Skew:                           0.427   Prob(JB):                     5.68e-25\n",
      "Kurtosis:                       3.671   Cond. No.                     6.09e+18\n",
      "==============================================================================\n",
      "\n",
      "Notes:\n",
      "[1] Standard Errors assume that the covariance matrix of the errors is correctly specified.\n",
      "[2] The smallest eigenvalue is 2.44e-28. This might indicate that there are\n",
      "strong multicollinearity problems or that the design matrix is singular.\n"
     ]
    }
   ],
   "source": [
    "season_dummies: pd.DataFrame = pd.get_dummies(climate_df[\"Season\"], prefix=\"Season\")\n",
    "time_features: pd.DataFrame = pd.concat([climate_df[[\"Year\"]], season_dummies], axis=1)\n",
    "target: pd.Series = climate_df[\"CDD_Seasonal_Smoothed\"]\n",
    "\n",
    "model, x_test, y_test = build_linear_regression_model(time_features, target)\n",
    "print(model.summary())"
   ],
   "metadata": {
    "collapsed": false,
    "ExecuteTime": {
     "end_time": "2024-02-17T18:16:09.860929200Z",
     "start_time": "2024-02-17T18:16:09.082890400Z"
    }
   },
   "id": "c6bc484cccde8c38"
  },
  {
   "cell_type": "code",
   "execution_count": 231,
   "outputs": [],
   "source": [
    "def run_prediction(predictive_model, x_test_df: pd.DataFrame, y_test_df: pd.DataFrame):\n",
    "    x_test_const: pd.DataFrame = sm.add_constant(x_test_df)\n",
    "    y_prediction = predictive_model.predict(x_test_const)\n",
    "    mse = mean_squared_error(y_test_df, y_prediction)\n",
    "    r_squared = r2_score(y_test_df, y_prediction)\n",
    "    \n",
    "    print(f\"The test data MSE is {round(mse, 3)}.\")\n",
    "    print(f\"The test data r-squared value is {round(r_squared, 3)}.\")"
   ],
   "metadata": {
    "collapsed": false,
    "ExecuteTime": {
     "end_time": "2024-02-17T18:16:09.860929200Z",
     "start_time": "2024-02-17T18:16:09.098925800Z"
    }
   },
   "id": "35061111d17a91dc"
  },
  {
   "cell_type": "code",
   "execution_count": 232,
   "outputs": [
    {
     "name": "stdout",
     "output_type": "stream",
     "text": [
      "The test data MSE is 0.376.\n",
      "The test data r-squared value is 0.022.\n"
     ]
    }
   ],
   "source": [
    "run_prediction(model, x_test, y_test)"
   ],
   "metadata": {
    "collapsed": false,
    "ExecuteTime": {
     "end_time": "2024-02-17T18:16:09.860929200Z",
     "start_time": "2024-02-17T18:16:09.104878800Z"
    }
   },
   "id": "1a7eee5ff64f10ea"
  },
  {
   "cell_type": "code",
   "execution_count": 233,
   "outputs": [
    {
     "name": "stdout",
     "output_type": "stream",
     "text": [
      "                              OLS Regression Results                             \n",
      "=================================================================================\n",
      "Dep. Variable:     CDD_Seasonal_Smoothed   R-squared:                       0.087\n",
      "Model:                               OLS   Adj. R-squared:                  0.085\n",
      "Method:                    Least Squares   F-statistic:                     43.14\n",
      "Date:                   Sat, 17 Feb 2024   Prob (F-statistic):           1.33e-42\n",
      "Time:                           13:16:09   Log-Likelihood:                -2097.0\n",
      "No. Observations:                   2275   AIC:                             4206.\n",
      "Df Residuals:                       2269   BIC:                             4240.\n",
      "Df Model:                              5                                         \n",
      "Covariance Type:               nonrobust                                         \n",
      "===============================================================================================\n",
      "                                  coef    std err          t      P>|t|      [0.025      0.975]\n",
      "-----------------------------------------------------------------------------------------------\n",
      "const                           4.0689      1.180      3.448      0.001       1.755       6.383\n",
      "Year                           -0.0026      0.001     -3.451      0.001      -0.004      -0.001\n",
      "Season_1                        1.0162      0.296      3.430      0.001       0.435       1.597\n",
      "Season_2                        1.0202      0.296      3.447      0.001       0.440       1.601\n",
      "Season_3                        1.0109      0.296      3.419      0.001       0.431       1.591\n",
      "Season_4                        1.0216      0.296      3.457      0.001       0.442       1.601\n",
      "Sea_Level_Seasonal_Smoothed    -0.1111      0.009    -12.562      0.000      -0.128      -0.094\n",
      "==============================================================================\n",
      "Omnibus:                       19.272   Durbin-Watson:                   2.070\n",
      "Prob(Omnibus):                  0.000   Jarque-Bera (JB):               20.360\n",
      "Skew:                           0.193   Prob(JB):                     3.79e-05\n",
      "Kurtosis:                       3.258   Cond. No.                     7.70e+18\n",
      "==============================================================================\n",
      "\n",
      "Notes:\n",
      "[1] Standard Errors assume that the covariance matrix of the errors is correctly specified.\n",
      "[2] The smallest eigenvalue is 1.52e-28. This might indicate that there are\n",
      "strong multicollinearity problems or that the design matrix is singular.\n"
     ]
    }
   ],
   "source": [
    "sea_level_time_features: pd.DataFrame = pd.concat([time_features, climate_df[[\"Sea_Level_Seasonal_Smoothed\"]]], axis=1)\n",
    "\n",
    "model, x_test, y_test = build_linear_regression_model(sea_level_time_features, target)\n",
    "print(model.summary())"
   ],
   "metadata": {
    "collapsed": false,
    "ExecuteTime": {
     "end_time": "2024-02-17T18:16:09.861939500Z",
     "start_time": "2024-02-17T18:16:09.113563100Z"
    }
   },
   "id": "de6d7a14ee45f83b"
  },
  {
   "cell_type": "code",
   "execution_count": 234,
   "outputs": [
    {
     "name": "stdout",
     "output_type": "stream",
     "text": [
      "The test data MSE is 0.362.\n",
      "The test data r-squared value is 0.059.\n"
     ]
    }
   ],
   "source": [
    "run_prediction(model, x_test, y_test)"
   ],
   "metadata": {
    "collapsed": false,
    "ExecuteTime": {
     "end_time": "2024-02-17T18:16:09.861939500Z",
     "start_time": "2024-02-17T18:16:09.127861800Z"
    }
   },
   "id": "60c7d96130a3efae"
  },
  {
   "cell_type": "code",
   "execution_count": 239,
   "outputs": [],
   "source": [
    "def generate_hyperparameters(params: Dict[str, List[Any]]) -> List[Dict[str, Any]]:\n",
    "    keys = list(params.keys())\n",
    "    values_product = product(*params.values())\n",
    "    combinations = [{keys[i]: value for i, value in enumerate(values)} for values in values_product]\n",
    "    return combinations\n",
    "\n",
    "def find_optimal_hyperparameters(model_class, hyperparameters: List[Dict[str, Any]], features_df, target_series) -> Dict[str, Any]:\n",
    "    x_train, x_test, y_train, y_test = train_test_split(features_df, target_series, test_size=0.3, random_state=1)\n",
    "    \n",
    "    min_mse = inf\n",
    "    best_hyperparameters = None\n",
    "    for hyperparameterSet in hyperparameters:\n",
    "        model_instance = model_class(**hyperparameterSet, random_state=1)\n",
    "        model_instance.fit(x_train, y_train)\n",
    "        model_y_prediction = model_instance.predict(x_test)\n",
    "        model_mse = mean_squared_error(y_test, model_y_prediction)\n",
    "        \n",
    "        if model_mse < min_mse:\n",
    "            min_mse = model_mse\n",
    "            best_hyperparameters = hyperparameterSet\n",
    "            \n",
    "    return best_hyperparameters"
   ],
   "metadata": {
    "collapsed": false,
    "ExecuteTime": {
     "end_time": "2024-02-17T18:36:03.919561800Z",
     "start_time": "2024-02-17T18:36:03.910338700Z"
    }
   },
   "id": "4812fdf57cfc5f29"
  },
  {
   "cell_type": "code",
   "execution_count": 242,
   "outputs": [
    {
     "name": "stdout",
     "output_type": "stream",
     "text": [
      "The optimized hyperparameters are: {'max_depth': 9}\n"
     ]
    }
   ],
   "source": [
    "optimized_hyperparameters = find_optimal_hyperparameters(DecisionTreeRegressor, generate_hyperparameters({\"max_depth\": list(range(2, 21))}), sea_level_time_features, target)\n",
    "print(f\"The optimized hyperparameters are: {optimized_hyperparameters}\")"
   ],
   "metadata": {
    "collapsed": false,
    "ExecuteTime": {
     "end_time": "2024-02-17T18:42:09.169034400Z",
     "start_time": "2024-02-17T18:42:08.994845100Z"
    }
   },
   "id": "b460af1c2ecff4f"
  },
  {
   "cell_type": "code",
   "execution_count": 243,
   "outputs": [
    {
     "name": "stdout",
     "output_type": "stream",
     "text": [
      "The test data MSE is 0.168.\n",
      "The test data r-squared value is 0.563.\n"
     ]
    }
   ],
   "source": [
    "x_train, x_test, y_train, y_test = train_test_split(sea_level_time_features, target, test_size=0.3, random_state=1)\n",
    "dt_regressor = DecisionTreeRegressor(**optimized_hyperparameters, random_state=1)\n",
    "dt_regressor.fit(x_train, y_train)\n",
    "\n",
    "y_prediction = dt_regressor.predict(x_test)\n",
    "mse = mean_squared_error(y_test, y_prediction)\n",
    "r_squared = r2_score(y_test, y_prediction)\n",
    "\n",
    "print(f\"The test data MSE is {round(mse, 3)}.\")\n",
    "print(f\"The test data r-squared value is {round(r_squared, 3)}.\\n\")"
   ],
   "metadata": {
    "collapsed": false,
    "ExecuteTime": {
     "end_time": "2024-02-17T18:42:47.232432500Z",
     "start_time": "2024-02-17T18:42:47.210752800Z"
    }
   },
   "id": "ff21460af7daa532"
  },
  {
   "cell_type": "code",
   "execution_count": 246,
   "outputs": [
    {
     "name": "stdout",
     "output_type": "stream",
     "text": [
      "The optimized hyperparameters are: {'max_depth': 11, 'n_estimators': 50}\n"
     ]
    }
   ],
   "source": [
    "optimized_hyperparameters = find_optimal_hyperparameters(RandomForestRegressor, generate_hyperparameters({\"max_depth\": list(range(1, 21)), \"n_estimators\": range(10, 151, 10)}), sea_level_time_features, target)\n",
    "print(f\"The optimized hyperparameters are: {optimized_hyperparameters}\")"
   ],
   "metadata": {
    "collapsed": false,
    "ExecuteTime": {
     "end_time": "2024-02-17T18:50:38.521832300Z",
     "start_time": "2024-02-17T18:50:14.073570400Z"
    }
   },
   "id": "62de188c3f56b669"
  },
  {
   "cell_type": "code",
   "execution_count": 247,
   "outputs": [
    {
     "name": "stdout",
     "output_type": "stream",
     "text": [
      "The test data MSE is 0.121.\n",
      "The test data r-squared value is 0.687.\n"
     ]
    }
   ],
   "source": [
    "x_train, x_test, y_train, y_test = train_test_split(sea_level_time_features, target, test_size=0.3, random_state=1)\n",
    "rf_regressor = RandomForestRegressor(**optimized_hyperparameters, random_state=1)\n",
    "rf_regressor.fit(x_train, y_train)\n",
    "\n",
    "y_prediction = rf_regressor.predict(x_test)\n",
    "mse = mean_squared_error(y_test, y_prediction)\n",
    "r_squared = r2_score(y_test, y_prediction)\n",
    "\n",
    "print(f\"The test data MSE is {round(mse, 3)}.\")\n",
    "print(f\"The test data r-squared value is {round(r_squared, 3)}.\\n\")"
   ],
   "metadata": {
    "collapsed": false,
    "ExecuteTime": {
     "end_time": "2024-02-17T18:51:40.487972300Z",
     "start_time": "2024-02-17T18:51:40.182941600Z"
    }
   },
   "id": "9e8c61b7deea5a77"
  },
  {
   "cell_type": "code",
   "execution_count": null,
   "outputs": [],
   "source": [],
   "metadata": {
    "collapsed": false
   },
   "id": "e3f37dd773a8ea79"
  }
 ],
 "metadata": {
  "kernelspec": {
   "display_name": "Python 3",
   "language": "python",
   "name": "python3"
  },
  "language_info": {
   "codemirror_mode": {
    "name": "ipython",
    "version": 2
   },
   "file_extension": ".py",
   "mimetype": "text/x-python",
   "name": "python",
   "nbconvert_exporter": "python",
   "pygments_lexer": "ipython2",
   "version": "2.7.6"
  }
 },
 "nbformat": 4,
 "nbformat_minor": 5
}
