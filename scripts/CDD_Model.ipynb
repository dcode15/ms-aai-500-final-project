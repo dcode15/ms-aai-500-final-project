{
 "cells": [
  {
   "cell_type": "code",
   "execution_count": 85,
   "id": "b83207bb0e3adba7",
   "metadata": {
    "collapsed": true,
    "ExecuteTime": {
     "end_time": "2024-02-17T01:06:15.092847700Z",
     "start_time": "2024-02-17T01:06:15.074507900Z"
    }
   },
   "outputs": [],
   "source": [
    "import pandas as pd\n",
    "from sklearn.model_selection import train_test_split\n",
    "from sklearn.linear_model import LinearRegression\n",
    "from sklearn.metrics import mean_squared_error, r2_score"
   ]
  },
  {
   "cell_type": "code",
   "execution_count": 86,
   "outputs": [
    {
     "data": {
      "text/plain": "  Region  Year  Season  ACI_Combined_Seasonal_Smoothed  \\\n0    ALA  1961       1                            0.24   \n1    CAR  1961       1                           -0.12   \n2    CEA  1961       1                           -0.31   \n3    CWP  1961       1                            0.06   \n4    MID  1961       1                            0.05   \n\n   ACI_Combined_Seasonal_Unsmoothed  CDD_Seasonal_Smoothed  \\\n0                              0.58                   0.13   \n1                              0.32                    NaN   \n2                             -0.80                  -0.18   \n3                              0.33                   0.44   \n4                             -0.25                   0.76   \n\n   CDD_Seasonal_Unsmoothed  CDD_Seasonal_Unsmoothed_Unstandardized  \\\n0                    -0.26                                   33.96   \n1                      NaN                                     NaN   \n2                    -1.01                                   14.93   \n3                     0.75                                   50.62   \n4                    -0.47                                   22.53   \n\n   Rx5Day_Seasonal_Smoothed  Rx5Day_Seasonal_Unsmoothed  ...  \\\n0                      0.01                       -0.57  ...   \n1                      0.08                        0.87  ...   \n2                     -0.17                       -0.33  ...   \n3                     -0.49                       -0.82  ...   \n4                     -0.14                       -1.01  ...   \n\n   Sea_Level_Seasonal_Unsmoothed_Unstandardized  T10_Seasonal_Smoothed  \\\n0                                       7266.74                   0.05   \n1                                           NaN                   0.10   \n2                                       6917.55                   0.09   \n3                                       7126.53                  -0.27   \n4                                           NaN                  -0.15   \n\n   T10_Seasonal_Unsmoothed  T10_Seasonal_Unsmoothed_Unstandardized  \\\n0                    -1.51                                    1.31   \n1                    -0.98                                    5.47   \n2                     1.19                                   15.88   \n3                    -1.29                                    2.70   \n4                    -0.65                                    6.86   \n\n   T90_Seasonal_Smoothed  T90_Seasonal_Unsmoothed  \\\n0                  -0.11                     0.42   \n1                  -0.30                    -0.12   \n2                  -0.10                    -0.41   \n3                   0.06                     0.79   \n4                  -0.15                     0.49   \n\n   T90_Seasonal_Unsmoothed_Unstandardized  WP90_Seasonal_Smoothed  \\\n0                                   13.04                    0.14   \n1                                   10.12                   -0.18   \n2                                    8.26                   -0.44   \n3                                   13.28                   -0.10   \n4                                   11.98                   -0.34   \n\n   WP90_Seasonal_Unsmoothed  WP90_Seasonal_Unsmoothed_Unstandardized  \n0                      0.62                                    11.51  \n1                     -0.47                                     8.62  \n2                     -1.05                                     7.18  \n3                     -0.27                                     9.00  \n4                     -0.92                                     7.69  \n\n[5 rows x 23 columns]",
      "text/html": "<div>\n<style scoped>\n    .dataframe tbody tr th:only-of-type {\n        vertical-align: middle;\n    }\n\n    .dataframe tbody tr th {\n        vertical-align: top;\n    }\n\n    .dataframe thead th {\n        text-align: right;\n    }\n</style>\n<table border=\"1\" class=\"dataframe\">\n  <thead>\n    <tr style=\"text-align: right;\">\n      <th></th>\n      <th>Region</th>\n      <th>Year</th>\n      <th>Season</th>\n      <th>ACI_Combined_Seasonal_Smoothed</th>\n      <th>ACI_Combined_Seasonal_Unsmoothed</th>\n      <th>CDD_Seasonal_Smoothed</th>\n      <th>CDD_Seasonal_Unsmoothed</th>\n      <th>CDD_Seasonal_Unsmoothed_Unstandardized</th>\n      <th>Rx5Day_Seasonal_Smoothed</th>\n      <th>Rx5Day_Seasonal_Unsmoothed</th>\n      <th>...</th>\n      <th>Sea_Level_Seasonal_Unsmoothed_Unstandardized</th>\n      <th>T10_Seasonal_Smoothed</th>\n      <th>T10_Seasonal_Unsmoothed</th>\n      <th>T10_Seasonal_Unsmoothed_Unstandardized</th>\n      <th>T90_Seasonal_Smoothed</th>\n      <th>T90_Seasonal_Unsmoothed</th>\n      <th>T90_Seasonal_Unsmoothed_Unstandardized</th>\n      <th>WP90_Seasonal_Smoothed</th>\n      <th>WP90_Seasonal_Unsmoothed</th>\n      <th>WP90_Seasonal_Unsmoothed_Unstandardized</th>\n    </tr>\n  </thead>\n  <tbody>\n    <tr>\n      <th>0</th>\n      <td>ALA</td>\n      <td>1961</td>\n      <td>1</td>\n      <td>0.24</td>\n      <td>0.58</td>\n      <td>0.13</td>\n      <td>-0.26</td>\n      <td>33.96</td>\n      <td>0.01</td>\n      <td>-0.57</td>\n      <td>...</td>\n      <td>7266.74</td>\n      <td>0.05</td>\n      <td>-1.51</td>\n      <td>1.31</td>\n      <td>-0.11</td>\n      <td>0.42</td>\n      <td>13.04</td>\n      <td>0.14</td>\n      <td>0.62</td>\n      <td>11.51</td>\n    </tr>\n    <tr>\n      <th>1</th>\n      <td>CAR</td>\n      <td>1961</td>\n      <td>1</td>\n      <td>-0.12</td>\n      <td>0.32</td>\n      <td>NaN</td>\n      <td>NaN</td>\n      <td>NaN</td>\n      <td>0.08</td>\n      <td>0.87</td>\n      <td>...</td>\n      <td>NaN</td>\n      <td>0.10</td>\n      <td>-0.98</td>\n      <td>5.47</td>\n      <td>-0.30</td>\n      <td>-0.12</td>\n      <td>10.12</td>\n      <td>-0.18</td>\n      <td>-0.47</td>\n      <td>8.62</td>\n    </tr>\n    <tr>\n      <th>2</th>\n      <td>CEA</td>\n      <td>1961</td>\n      <td>1</td>\n      <td>-0.31</td>\n      <td>-0.80</td>\n      <td>-0.18</td>\n      <td>-1.01</td>\n      <td>14.93</td>\n      <td>-0.17</td>\n      <td>-0.33</td>\n      <td>...</td>\n      <td>6917.55</td>\n      <td>0.09</td>\n      <td>1.19</td>\n      <td>15.88</td>\n      <td>-0.10</td>\n      <td>-0.41</td>\n      <td>8.26</td>\n      <td>-0.44</td>\n      <td>-1.05</td>\n      <td>7.18</td>\n    </tr>\n    <tr>\n      <th>3</th>\n      <td>CWP</td>\n      <td>1961</td>\n      <td>1</td>\n      <td>0.06</td>\n      <td>0.33</td>\n      <td>0.44</td>\n      <td>0.75</td>\n      <td>50.62</td>\n      <td>-0.49</td>\n      <td>-0.82</td>\n      <td>...</td>\n      <td>7126.53</td>\n      <td>-0.27</td>\n      <td>-1.29</td>\n      <td>2.70</td>\n      <td>0.06</td>\n      <td>0.79</td>\n      <td>13.28</td>\n      <td>-0.10</td>\n      <td>-0.27</td>\n      <td>9.00</td>\n    </tr>\n    <tr>\n      <th>4</th>\n      <td>MID</td>\n      <td>1961</td>\n      <td>1</td>\n      <td>0.05</td>\n      <td>-0.25</td>\n      <td>0.76</td>\n      <td>-0.47</td>\n      <td>22.53</td>\n      <td>-0.14</td>\n      <td>-1.01</td>\n      <td>...</td>\n      <td>NaN</td>\n      <td>-0.15</td>\n      <td>-0.65</td>\n      <td>6.86</td>\n      <td>-0.15</td>\n      <td>0.49</td>\n      <td>11.98</td>\n      <td>-0.34</td>\n      <td>-0.92</td>\n      <td>7.69</td>\n    </tr>\n  </tbody>\n</table>\n<p>5 rows × 23 columns</p>\n</div>"
     },
     "execution_count": 86,
     "metadata": {},
     "output_type": "execute_result"
    }
   ],
   "source": [
    "climate_df: pd.DataFrame = pd.read_csv(\"../data/Cleaned_Data_Seasonal.csv\")\n",
    "climate_df.head()"
   ],
   "metadata": {
    "collapsed": false,
    "ExecuteTime": {
     "end_time": "2024-02-17T01:06:15.132216100Z",
     "start_time": "2024-02-17T01:06:15.078737100Z"
    }
   },
   "id": "initial_id"
  },
  {
   "cell_type": "code",
   "execution_count": 87,
   "outputs": [
    {
     "name": "stdout",
     "output_type": "stream",
     "text": [
      "Records before dropping empty rows: 500\n",
      "Records after dropping empty rows: 500\n"
     ]
    },
    {
     "data": {
      "text/plain": "   Region  Year  Season  ACI_Combined_Seasonal_Smoothed  \\\n7     NPL  1961       1                            0.18   \n10    SPL  1961       1                           -0.12   \n22    NPL  1961       2                            0.21   \n25    SPL  1961       2                           -0.13   \n37    NPL  1961       3                            0.23   \n\n    ACI_Combined_Seasonal_Unsmoothed  CDD_Seasonal_Smoothed  \\\n7                               0.84                  -0.32   \n10                             -0.05                   0.82   \n22                              0.21                  -0.26   \n25                             -0.38                   0.65   \n37                              0.65                  -0.19   \n\n    CDD_Seasonal_Unsmoothed  CDD_Seasonal_Unsmoothed_Unstandardized  \\\n7                      0.75                                   33.90   \n10                    -0.54                                   38.19   \n22                     0.54                                   33.15   \n25                    -0.43                                   38.55   \n37                     0.33                                   32.39   \n\n    Rx5Day_Seasonal_Smoothed  Rx5Day_Seasonal_Unsmoothed  ...  \\\n7                      -0.39                        0.45  ...   \n10                     -0.21                        1.27  ...   \n22                     -0.39                       -1.47  ...   \n25                     -0.13                       -1.28  ...   \n37                     -0.53                       -2.39  ...   \n\n    Sea_Level_Seasonal_Unsmoothed_Unstandardized  T10_Seasonal_Smoothed  \\\n7                                        7395.00                  -0.02   \n10                                       6854.45                  -0.20   \n22                                       7316.67                  -0.07   \n25                                       6938.56                  -0.22   \n37                                       7428.33                  -0.14   \n\n    T10_Seasonal_Unsmoothed  T10_Seasonal_Unsmoothed_Unstandardized  \\\n7                     -1.52                                    2.29   \n10                    -1.09                                    5.26   \n22                     0.14                                   10.91   \n25                    -0.05                                    9.86   \n37                    -1.40                                    5.31   \n\n    T90_Seasonal_Smoothed  T90_Seasonal_Unsmoothed  \\\n7                   -0.27                     0.53   \n10                  -0.09                    -0.23   \n22                  -0.23                    -0.18   \n25                  -0.14                    -0.35   \n37                  -0.08                     2.96   \n\n    T90_Seasonal_Unsmoothed_Unstandardized  WP90_Seasonal_Smoothed  \\\n7                                    13.22                    0.78   \n10                                    9.37                    0.05   \n22                                    9.29                    0.82   \n25                                    8.78                    0.10   \n37                                   22.06                    0.75   \n\n    WP90_Seasonal_Unsmoothed  WP90_Seasonal_Unsmoothed_Unstandardized  \n7                       0.57                                    11.68  \n10                     -0.44                                     9.16  \n22                      1.27                                    12.95  \n25                      1.12                                    12.51  \n37                      0.19                                    10.41  \n\n[5 rows x 23 columns]",
      "text/html": "<div>\n<style scoped>\n    .dataframe tbody tr th:only-of-type {\n        vertical-align: middle;\n    }\n\n    .dataframe tbody tr th {\n        vertical-align: top;\n    }\n\n    .dataframe thead th {\n        text-align: right;\n    }\n</style>\n<table border=\"1\" class=\"dataframe\">\n  <thead>\n    <tr style=\"text-align: right;\">\n      <th></th>\n      <th>Region</th>\n      <th>Year</th>\n      <th>Season</th>\n      <th>ACI_Combined_Seasonal_Smoothed</th>\n      <th>ACI_Combined_Seasonal_Unsmoothed</th>\n      <th>CDD_Seasonal_Smoothed</th>\n      <th>CDD_Seasonal_Unsmoothed</th>\n      <th>CDD_Seasonal_Unsmoothed_Unstandardized</th>\n      <th>Rx5Day_Seasonal_Smoothed</th>\n      <th>Rx5Day_Seasonal_Unsmoothed</th>\n      <th>...</th>\n      <th>Sea_Level_Seasonal_Unsmoothed_Unstandardized</th>\n      <th>T10_Seasonal_Smoothed</th>\n      <th>T10_Seasonal_Unsmoothed</th>\n      <th>T10_Seasonal_Unsmoothed_Unstandardized</th>\n      <th>T90_Seasonal_Smoothed</th>\n      <th>T90_Seasonal_Unsmoothed</th>\n      <th>T90_Seasonal_Unsmoothed_Unstandardized</th>\n      <th>WP90_Seasonal_Smoothed</th>\n      <th>WP90_Seasonal_Unsmoothed</th>\n      <th>WP90_Seasonal_Unsmoothed_Unstandardized</th>\n    </tr>\n  </thead>\n  <tbody>\n    <tr>\n      <th>7</th>\n      <td>NPL</td>\n      <td>1961</td>\n      <td>1</td>\n      <td>0.18</td>\n      <td>0.84</td>\n      <td>-0.32</td>\n      <td>0.75</td>\n      <td>33.90</td>\n      <td>-0.39</td>\n      <td>0.45</td>\n      <td>...</td>\n      <td>7395.00</td>\n      <td>-0.02</td>\n      <td>-1.52</td>\n      <td>2.29</td>\n      <td>-0.27</td>\n      <td>0.53</td>\n      <td>13.22</td>\n      <td>0.78</td>\n      <td>0.57</td>\n      <td>11.68</td>\n    </tr>\n    <tr>\n      <th>10</th>\n      <td>SPL</td>\n      <td>1961</td>\n      <td>1</td>\n      <td>-0.12</td>\n      <td>-0.05</td>\n      <td>0.82</td>\n      <td>-0.54</td>\n      <td>38.19</td>\n      <td>-0.21</td>\n      <td>1.27</td>\n      <td>...</td>\n      <td>6854.45</td>\n      <td>-0.20</td>\n      <td>-1.09</td>\n      <td>5.26</td>\n      <td>-0.09</td>\n      <td>-0.23</td>\n      <td>9.37</td>\n      <td>0.05</td>\n      <td>-0.44</td>\n      <td>9.16</td>\n    </tr>\n    <tr>\n      <th>22</th>\n      <td>NPL</td>\n      <td>1961</td>\n      <td>2</td>\n      <td>0.21</td>\n      <td>0.21</td>\n      <td>-0.26</td>\n      <td>0.54</td>\n      <td>33.15</td>\n      <td>-0.39</td>\n      <td>-1.47</td>\n      <td>...</td>\n      <td>7316.67</td>\n      <td>-0.07</td>\n      <td>0.14</td>\n      <td>10.91</td>\n      <td>-0.23</td>\n      <td>-0.18</td>\n      <td>9.29</td>\n      <td>0.82</td>\n      <td>1.27</td>\n      <td>12.95</td>\n    </tr>\n    <tr>\n      <th>25</th>\n      <td>SPL</td>\n      <td>1961</td>\n      <td>2</td>\n      <td>-0.13</td>\n      <td>-0.38</td>\n      <td>0.65</td>\n      <td>-0.43</td>\n      <td>38.55</td>\n      <td>-0.13</td>\n      <td>-1.28</td>\n      <td>...</td>\n      <td>6938.56</td>\n      <td>-0.22</td>\n      <td>-0.05</td>\n      <td>9.86</td>\n      <td>-0.14</td>\n      <td>-0.35</td>\n      <td>8.78</td>\n      <td>0.10</td>\n      <td>1.12</td>\n      <td>12.51</td>\n    </tr>\n    <tr>\n      <th>37</th>\n      <td>NPL</td>\n      <td>1961</td>\n      <td>3</td>\n      <td>0.23</td>\n      <td>0.65</td>\n      <td>-0.19</td>\n      <td>0.33</td>\n      <td>32.39</td>\n      <td>-0.53</td>\n      <td>-2.39</td>\n      <td>...</td>\n      <td>7428.33</td>\n      <td>-0.14</td>\n      <td>-1.40</td>\n      <td>5.31</td>\n      <td>-0.08</td>\n      <td>2.96</td>\n      <td>22.06</td>\n      <td>0.75</td>\n      <td>0.19</td>\n      <td>10.41</td>\n    </tr>\n  </tbody>\n</table>\n<p>5 rows × 23 columns</p>\n</div>"
     },
     "execution_count": 87,
     "metadata": {},
     "output_type": "execute_result"
    }
   ],
   "source": [
    "plains_df: pd.DataFrame = climate_df[climate_df[\"Region\"].isin([\"NPL\", \"SPL\"])]\n",
    "\n",
    "print(f\"Records before dropping empty rows: {len(plains_df)}\")\n",
    "plains_df = plains_df.dropna()\n",
    "print(f\"Records after dropping empty rows: {len(plains_df)}\")\n",
    "plains_df.head()"
   ],
   "metadata": {
    "collapsed": false,
    "ExecuteTime": {
     "end_time": "2024-02-17T01:06:15.132721500Z",
     "start_time": "2024-02-17T01:06:15.105734900Z"
    }
   },
   "id": "819e09b8521e1892"
  },
  {
   "cell_type": "code",
   "execution_count": 88,
   "outputs": [
    {
     "name": "stdout",
     "output_type": "stream",
     "text": [
      "      Year  Season_1  Season_2  Season_3  Season_4\n",
      "100   1962     False     False      True     False\n",
      "460   1968     False     False      True     False\n",
      "2242  1998     False      True     False     False\n",
      "295   1965     False     False     False      True\n",
      "2707  2006      True     False     False     False\n"
     ]
    }
   ],
   "source": [
    "season_dummies: pd.DataFrame = pd.get_dummies(plains_df['Season'], prefix='Season')\n",
    "features: pd.DataFrame = pd.concat([plains_df[['Year']], season_dummies], axis=1)\n",
    "\n",
    "x_train, x_test, y_train, y_test = train_test_split(features, plains_df['CDD_Seasonal_Smoothed'], test_size=0.3, random_state=1)\n",
    "\n",
    "print(x_train.head())"
   ],
   "metadata": {
    "collapsed": false,
    "ExecuteTime": {
     "end_time": "2024-02-17T01:06:15.139516900Z",
     "start_time": "2024-02-17T01:06:15.125588600Z"
    }
   },
   "id": "c6bc484cccde8c38"
  },
  {
   "cell_type": "code",
   "execution_count": 89,
   "outputs": [
    {
     "name": "stdout",
     "output_type": "stream",
     "text": [
      "The MSE is 0.336.\n",
      "The r-squared value is 0.025.\n"
     ]
    }
   ],
   "source": [
    "model = LinearRegression()\n",
    "model.fit(x_train, y_train)\n",
    "\n",
    "y_prediction = model.predict(x_test)\n",
    "mse = mean_squared_error(y_test, y_prediction)\n",
    "r_squared = r2_score(y_test, y_prediction)\n",
    "\n",
    "print(f\"The MSE is {round(mse, 3)}.\")\n",
    "print(f\"The r-squared value is {round(r_squared, 3)}.\")"
   ],
   "metadata": {
    "collapsed": false,
    "ExecuteTime": {
     "end_time": "2024-02-17T01:06:15.154375300Z",
     "start_time": "2024-02-17T01:06:15.136729600Z"
    }
   },
   "id": "246caf726f00a16a"
  },
  {
   "cell_type": "code",
   "execution_count": 90,
   "outputs": [
    {
     "name": "stdout",
     "output_type": "stream",
     "text": [
      "      Year  Season_1  Season_2  Season_3  Season_4  Region_NPL  Region_SPL\n",
      "100   1962     False     False      True     False       False        True\n",
      "460   1968     False     False      True     False       False        True\n",
      "2242  1998     False      True     False     False        True       False\n",
      "295   1965     False     False     False      True       False        True\n",
      "2707  2006      True     False     False     False        True       False\n"
     ]
    }
   ],
   "source": [
    "region_dummies = pd.get_dummies(plains_df['Region'], prefix='Region')\n",
    "features = pd.concat([features, region_dummies], axis=1)\n",
    "\n",
    "x_train, x_test, y_train, y_test = train_test_split(features, plains_df['CDD_Seasonal_Smoothed'], test_size=0.3, random_state=1)\n",
    "print(x_train.head())"
   ],
   "metadata": {
    "collapsed": false,
    "ExecuteTime": {
     "end_time": "2024-02-17T01:06:15.213240900Z",
     "start_time": "2024-02-17T01:06:15.147990700Z"
    }
   },
   "id": "1a7eee5ff64f10ea"
  },
  {
   "cell_type": "code",
   "execution_count": 91,
   "outputs": [
    {
     "name": "stdout",
     "output_type": "stream",
     "text": [
      "The MSE is 0.334.\n",
      "The r-squared value is 0.032.\n"
     ]
    }
   ],
   "source": [
    "model = LinearRegression()\n",
    "model.fit(x_train, y_train)\n",
    "\n",
    "y_prediction = model.predict(x_test)\n",
    "mse = mean_squared_error(y_test, y_prediction)\n",
    "r_squared = r2_score(y_test, y_prediction)\n",
    "\n",
    "print(f\"The MSE is {round(mse, 3)}.\")\n",
    "print(f\"The r-squared value is {round(r_squared, 3)}.\")"
   ],
   "metadata": {
    "collapsed": false,
    "ExecuteTime": {
     "end_time": "2024-02-17T01:06:15.279612600Z",
     "start_time": "2024-02-17T01:06:15.158900100Z"
    }
   },
   "id": "9e8c61b7deea5a77"
  }
 ],
 "metadata": {
  "kernelspec": {
   "display_name": "Python 3",
   "language": "python",
   "name": "python3"
  },
  "language_info": {
   "codemirror_mode": {
    "name": "ipython",
    "version": 2
   },
   "file_extension": ".py",
   "mimetype": "text/x-python",
   "name": "python",
   "nbconvert_exporter": "python",
   "pygments_lexer": "ipython2",
   "version": "2.7.6"
  }
 },
 "nbformat": 4,
 "nbformat_minor": 5
}
